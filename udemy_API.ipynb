{
 "cells": [
  {
   "cell_type": "code",
   "execution_count": 32,
   "metadata": {},
   "outputs": [],
   "source": [
    "from pyudemy import Udemy\n",
    "import math\n",
    "from tqdm import tqdm\n",
    "import time\n",
    "import csv"
   ]
  },
  {
   "cell_type": "code",
   "execution_count": null,
   "metadata": {},
   "outputs": [],
   "source": [
    "udemy = Udemy('******', '******')"
   ]
  },
  {
   "cell_type": "code",
   "execution_count": null,
   "metadata": {},
   "outputs": [],
   "source": [
    "field = [\n",
    "    {\n",
    "    \"Object\": \"course\",\n",
    "    \"Setting\": \"@min\",\n",
    "    \"Additions\": [\"avg_rating\", \"created\", \"is_paid\", \"num_lectures\", \"num_reviews\", \"num_subscribers\", \"content_info\",\"price\",],\n",
    "    \"Minus\": [\"images\"]\n",
    "    }\n",
    "]"
   ]
  },
  {
   "cell_type": "code",
   "execution_count": 38,
   "metadata": {},
   "outputs": [
    {
     "name": "stderr",
     "output_type": "stream",
     "text": [
      "100%|██████████| 368/368 [09:47<00:00,  1.60s/it]\n"
     ]
    }
   ],
   "source": [
    "cloud_providers = [\"AWS\",\"GCP\",\"Azure\"]\n",
    "test_title_names = [[\"AWS\",\"Amazon\",\"aws\"],[\"GCP\",\"Google\",\"gcp\"],[\"Azure\",\"Az\",\"AZ\"]]\n",
    "\n",
    "# creating a list for each item associated with each provider\n",
    "course_id, urls, title, date_created, num_subscribers, is_paid, price, avg_rating, num_ratings, content_duration \\\n",
    "    = ([[],[],[]] for i in range(10))\n",
    "\n",
    "# loop through each cloud provider\n",
    "for i, name in enumerate(cloud_providers):\n",
    "\n",
    "    # initial search to determine how many results\n",
    "    udemy_course = udemy.courses(search=name, page=1, fields=field)\n",
    "    num_pages = math.ceil(udemy_course[\"count\"]/12)\n",
    "\n",
    "    # loop through each page of courses associated with provider\n",
    "    for j in tqdm(range(1, num_pages+1)):\n",
    "        dictionary = udemy.courses(search=name, page=j, fields=field)\n",
    "        time.sleep(0.6) # delay further compute by 0.5 second due to udemy API throttling\n",
    "        \n",
    "        # add each item to its appropriate list for each course\n",
    "        for k in dictionary[\"results\"]:\n",
    "            if any([x in k[\"title\"] for x in test_title_names[i]]):\n",
    "                course_id[i].append(k[\"id\"])\n",
    "                urls[i].append(k[\"url\"])\n",
    "                title[i].append(k[\"title\"])\n",
    "                date_created[i].append(k[\"created\"])\n",
    "                num_subscribers[i].append(k[\"num_subscribers\"])\n",
    "                is_paid[i].append(k[\"is_paid\"])\n",
    "                price[i].append(k[\"price\"])\n",
    "                avg_rating[i].append(k[\"avg_rating\"])\n",
    "                num_ratings[i].append(k[\"num_reviews\"])\n",
    "                content_duration[i].append(k[\"content_info\"])\n"
   ]
  },
  {
   "cell_type": "code",
   "execution_count": 39,
   "metadata": {},
   "outputs": [],
   "source": [
    "AWS_data = zip(course_id[0], urls[0], title[0], date_created[0], num_subscribers[0], is_paid[0], price[0], avg_rating[0], num_ratings[0], content_duration[0])\n",
    "GCP_data = zip(course_id[1], urls[1], title[1], date_created[1], num_subscribers[1], is_paid[1], price[1], avg_rating[1], num_ratings[1], content_duration[1])\n",
    "Azure_data = zip(course_id[2], urls[2], title[2], date_created[2], num_subscribers[2], is_paid[2], price[2], avg_rating[2], num_ratings[2], content_duration[2])"
   ]
  },
  {
   "cell_type": "code",
   "execution_count": 40,
   "metadata": {},
   "outputs": [],
   "source": [
    "header_list = ('course_id', 'urls', 'title', 'date_created', 'num_subscribers', 'is_paid', 'price', 'avg_rating', 'num_ratings', 'content_duration')\n",
    "\n",
    "# convert all data into separate csv files\n",
    "with open('Azure_data.csv', \"w\") as f:\n",
    "    writer = csv.writer(f)\n",
    "    writer.writerow(header_list)\n",
    "    for row in Azure_data:\n",
    "        writer.writerow(row)"
   ]
  }
 ],
 "metadata": {
  "kernelspec": {
   "display_name": "base",
   "language": "python",
   "name": "python3"
  },
  "language_info": {
   "codemirror_mode": {
    "name": "ipython",
    "version": 3
   },
   "file_extension": ".py",
   "mimetype": "text/x-python",
   "name": "python",
   "nbconvert_exporter": "python",
   "pygments_lexer": "ipython3",
   "version": "3.9.13"
  },
  "orig_nbformat": 4,
  "vscode": {
   "interpreter": {
    "hash": "a5c3b8e5a2b8488009cd245232e62a194b939047a1908178c05a5fa9307a543b"
   }
  }
 },
 "nbformat": 4,
 "nbformat_minor": 2
}
