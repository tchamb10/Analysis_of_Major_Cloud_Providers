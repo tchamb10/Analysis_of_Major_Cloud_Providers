{
 "cells": [
  {
   "cell_type": "code",
   "execution_count": null,
   "metadata": {},
   "outputs": [],
   "source": [
    "import pandas as pd"
   ]
  },
  {
   "cell_type": "code",
   "execution_count": null,
   "metadata": {},
   "outputs": [],
   "source": [
    "files = ['AWS_data.csv', 'GCP_data.csv', 'Azure_data.csv']\n",
    "\n",
    "df = [pd.read_csv(x) for x in files]\n",
    "df[1].head()"
   ]
  },
  {
   "cell_type": "code",
   "execution_count": null,
   "metadata": {},
   "outputs": [],
   "source": [
    "price = [df[i]['price'] for i in range(len(df))]\n",
    "content_duration = [df[i]['content_duration'] for i in range(len(df))]\n",
    "date_created = [df[i]['date_created'] for i in range(len(df))]"
   ]
  },
  {
   "cell_type": "code",
   "execution_count": null,
   "metadata": {},
   "outputs": [],
   "source": [
    "def cleanup(price, content_duration, date_created):    \n",
    "    info = [price, content_duration, date_created]\n",
    "\n",
    "    if all(len(info[0]) == len(i) for i in info[1:]):\n",
    "        for i in range(0, len(price)):\n",
    "            \n",
    "            price[i] = price[i].strip(\"$\")\n",
    "            \n",
    "            content_duration[i] = content_duration[i].strip(\" toalhursminqe\")\n",
    "\n",
    "            date_created[i] = date_created[i].split('T', 1)[0]\n",
    "\n",
    "    return price, content_duration, date_created"
   ]
  },
  {
   "cell_type": "code",
   "execution_count": null,
   "metadata": {},
   "outputs": [],
   "source": [
    "price, content_duration, date_created = [cleanup(price[i], content_duration[i], date_created[i]) for i in range(len(price))]\n",
    "print(date_created)"
   ]
  },
  {
   "cell_type": "code",
   "execution_count": null,
   "metadata": {},
   "outputs": [],
   "source": [
    "for i, file in enumerate(files):\n",
    "    df[i].to_csv(file)"
   ]
  },
  {
   "cell_type": "code",
   "execution_count": null,
   "metadata": {},
   "outputs": [],
   "source": []
  },
  {
   "cell_type": "code",
   "execution_count": null,
   "metadata": {},
   "outputs": [],
   "source": []
  }
 ],
 "metadata": {
  "kernelspec": {
   "display_name": "base",
   "language": "python",
   "name": "python3"
  },
  "language_info": {
   "codemirror_mode": {
    "name": "ipython",
    "version": 3
   },
   "file_extension": ".py",
   "mimetype": "text/x-python",
   "name": "python",
   "nbconvert_exporter": "python",
   "pygments_lexer": "ipython3",
   "version": "3.9.13"
  },
  "orig_nbformat": 4,
  "vscode": {
   "interpreter": {
    "hash": "a5c3b8e5a2b8488009cd245232e62a194b939047a1908178c05a5fa9307a543b"
   }
  }
 },
 "nbformat": 4,
 "nbformat_minor": 2
}
