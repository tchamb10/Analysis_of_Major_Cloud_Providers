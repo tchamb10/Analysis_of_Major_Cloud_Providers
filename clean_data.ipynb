{
 "cells": [
  {
   "cell_type": "code",
   "execution_count": 4,
   "metadata": {},
   "outputs": [],
   "source": [
    "import pandas as pd"
   ]
  },
  {
   "cell_type": "code",
   "execution_count": 41,
   "metadata": {},
   "outputs": [
    {
     "data": {
      "text/html": [
       "<div>\n",
       "<style scoped>\n",
       "    .dataframe tbody tr th:only-of-type {\n",
       "        vertical-align: middle;\n",
       "    }\n",
       "\n",
       "    .dataframe tbody tr th {\n",
       "        vertical-align: top;\n",
       "    }\n",
       "\n",
       "    .dataframe thead th {\n",
       "        text-align: right;\n",
       "    }\n",
       "</style>\n",
       "<table border=\"1\" class=\"dataframe\">\n",
       "  <thead>\n",
       "    <tr style=\"text-align: right;\">\n",
       "      <th></th>\n",
       "      <th>course_id</th>\n",
       "      <th>urls</th>\n",
       "      <th>title</th>\n",
       "      <th>date_created</th>\n",
       "      <th>num_subscribers</th>\n",
       "      <th>is_paid</th>\n",
       "      <th>price</th>\n",
       "      <th>avg_rating</th>\n",
       "      <th>num_ratings</th>\n",
       "      <th>content_duration</th>\n",
       "    </tr>\n",
       "  </thead>\n",
       "  <tbody>\n",
       "    <tr>\n",
       "      <th>0</th>\n",
       "      <td>3651110</td>\n",
       "      <td>/course/microsoft-azure-from-zero-to-hero-the-...</td>\n",
       "      <td>Microsoft Azure: From Zero to Hero - The Compl...</td>\n",
       "      <td>2020-11-21T23:37:38Z</td>\n",
       "      <td>58832</td>\n",
       "      <td>True</td>\n",
       "      <td>$84.99</td>\n",
       "      <td>4.587387</td>\n",
       "      <td>7927</td>\n",
       "      <td>20.5 total hours</td>\n",
       "    </tr>\n",
       "    <tr>\n",
       "      <th>1</th>\n",
       "      <td>2394982</td>\n",
       "      <td>/course/az900-azure/</td>\n",
       "      <td>AZ-900: Microsoft Azure Fundamentals Exam Prep...</td>\n",
       "      <td>2019-06-02T01:18:12Z</td>\n",
       "      <td>315444</td>\n",
       "      <td>True</td>\n",
       "      <td>$49.99</td>\n",
       "      <td>4.548404</td>\n",
       "      <td>76602</td>\n",
       "      <td>6 total hours</td>\n",
       "    </tr>\n",
       "    <tr>\n",
       "      <th>2</th>\n",
       "      <td>1704776</td>\n",
       "      <td>/course/microsoft-azure-beginners-guide/</td>\n",
       "      <td>Microsoft Azure - Beginner's Guide + AZ-900 - ...</td>\n",
       "      <td>2018-05-20T05:10:57Z</td>\n",
       "      <td>201937</td>\n",
       "      <td>True</td>\n",
       "      <td>$84.99</td>\n",
       "      <td>4.531486</td>\n",
       "      <td>50600</td>\n",
       "      <td>14.5 total hours</td>\n",
       "    </tr>\n",
       "    <tr>\n",
       "      <th>3</th>\n",
       "      <td>4049392</td>\n",
       "      <td>/course/azure-certification-az-900-azure-funda...</td>\n",
       "      <td>AZ-900 Microsoft Azure Fundamentals in a Weekend</td>\n",
       "      <td>2021-05-14T10:52:24Z</td>\n",
       "      <td>86408</td>\n",
       "      <td>True</td>\n",
       "      <td>$19.99</td>\n",
       "      <td>4.582755</td>\n",
       "      <td>20564</td>\n",
       "      <td>8.5 total hours</td>\n",
       "    </tr>\n",
       "    <tr>\n",
       "      <th>4</th>\n",
       "      <td>2131244</td>\n",
       "      <td>/course/microsoft-certified-azure-administrator/</td>\n",
       "      <td>AZ-104 Microsoft Azure Administrator Certifica...</td>\n",
       "      <td>2019-01-06T03:37:21Z</td>\n",
       "      <td>85902</td>\n",
       "      <td>True</td>\n",
       "      <td>$99.99</td>\n",
       "      <td>4.565885</td>\n",
       "      <td>17459</td>\n",
       "      <td>26 total hours</td>\n",
       "    </tr>\n",
       "  </tbody>\n",
       "</table>\n",
       "</div>"
      ],
      "text/plain": [
       "   course_id                                               urls  \\\n",
       "0    3651110  /course/microsoft-azure-from-zero-to-hero-the-...   \n",
       "1    2394982                               /course/az900-azure/   \n",
       "2    1704776           /course/microsoft-azure-beginners-guide/   \n",
       "3    4049392  /course/azure-certification-az-900-azure-funda...   \n",
       "4    2131244   /course/microsoft-certified-azure-administrator/   \n",
       "\n",
       "                                               title          date_created  \\\n",
       "0  Microsoft Azure: From Zero to Hero - The Compl...  2020-11-21T23:37:38Z   \n",
       "1  AZ-900: Microsoft Azure Fundamentals Exam Prep...  2019-06-02T01:18:12Z   \n",
       "2  Microsoft Azure - Beginner's Guide + AZ-900 - ...  2018-05-20T05:10:57Z   \n",
       "3   AZ-900 Microsoft Azure Fundamentals in a Weekend  2021-05-14T10:52:24Z   \n",
       "4  AZ-104 Microsoft Azure Administrator Certifica...  2019-01-06T03:37:21Z   \n",
       "\n",
       "   num_subscribers  is_paid   price  avg_rating  num_ratings  content_duration  \n",
       "0            58832     True  $84.99    4.587387         7927  20.5 total hours  \n",
       "1           315444     True  $49.99    4.548404        76602     6 total hours  \n",
       "2           201937     True  $84.99    4.531486        50600  14.5 total hours  \n",
       "3            86408     True  $19.99    4.582755        20564   8.5 total hours  \n",
       "4            85902     True  $99.99    4.565885        17459    26 total hours  "
      ]
     },
     "execution_count": 41,
     "metadata": {},
     "output_type": "execute_result"
    }
   ],
   "source": [
    "files = ['AWS_data.csv', 'GCP_data.csv', 'Azure_data.csv']\n",
    "\n",
    "df = [pd.read_csv(x) for x in files]\n",
    "df[1].head()"
   ]
  },
  {
   "cell_type": "code",
   "execution_count": 42,
   "metadata": {},
   "outputs": [],
   "source": [
    "price = [df[i]['price'] for i in range(len(df))]\n",
    "content_duration = [df[i]['content_duration'] for i in range(len(df))]"
   ]
  },
  {
   "cell_type": "code",
   "execution_count": 43,
   "metadata": {},
   "outputs": [],
   "source": [
    "def cleanup(price, content_duration):    \n",
    "    info = [price, content_duration]\n",
    "\n",
    "    if all(len(info[0]) == len(i) for i in info[1:]):\n",
    "        for i in range(0, len(price)):\n",
    "            \n",
    "            price[i] = price[i].strip(\"$\")\n",
    "            \n",
    "            content_duration[i] = content_duration[i].strip(\" toalhursminqe\")\n",
    "\n",
    "    return price, content_duration"
   ]
  },
  {
   "cell_type": "code",
   "execution_count": 44,
   "metadata": {},
   "outputs": [
    {
     "name": "stderr",
     "output_type": "stream",
     "text": [
      "C:\\Users\\Tyler\\AppData\\Local\\Temp\\ipykernel_21576\\1062566298.py:7: SettingWithCopyWarning: \n",
      "A value is trying to be set on a copy of a slice from a DataFrame\n",
      "\n",
      "See the caveats in the documentation: https://pandas.pydata.org/pandas-docs/stable/user_guide/indexing.html#returning-a-view-versus-a-copy\n",
      "  price[i] = price[i].strip(\"$\")\n",
      "C:\\Users\\Tyler\\AppData\\Local\\Temp\\ipykernel_21576\\1062566298.py:9: SettingWithCopyWarning: \n",
      "A value is trying to be set on a copy of a slice from a DataFrame\n",
      "\n",
      "See the caveats in the documentation: https://pandas.pydata.org/pandas-docs/stable/user_guide/indexing.html#returning-a-view-versus-a-copy\n",
      "  content_duration[i] = content_duration[i].strip(\" toalhursminqe\")\n"
     ]
    },
    {
     "name": "stdout",
     "output_type": "stream",
     "text": [
      "(0      19.99\n",
      "1      19.99\n",
      "2      19.99\n",
      "3      79.99\n",
      "4      24.99\n",
      "       ...  \n",
      "534     Free\n",
      "535     Free\n",
      "536     Free\n",
      "537     Free\n",
      "538     Free\n",
      "Name: price, Length: 539, dtype: object, 0      17.5\n",
      "1        21\n",
      "2      10.5\n",
      "3         6\n",
      "4         4\n",
      "       ... \n",
      "534       2\n",
      "535     1.5\n",
      "536      41\n",
      "537       1\n",
      "538      40\n",
      "Name: content_duration, Length: 539, dtype: object)\n"
     ]
    }
   ],
   "source": [
    "price, content_duration = [cleanup(price[i], content_duration[i]) for i in range(len(price))]\n",
    "print(price)"
   ]
  },
  {
   "cell_type": "code",
   "execution_count": 45,
   "metadata": {},
   "outputs": [],
   "source": [
    "for i, file in enumerate(files):\n",
    "    df[i].to_csv(file)"
   ]
  },
  {
   "cell_type": "code",
   "execution_count": 30,
   "metadata": {},
   "outputs": [],
   "source": []
  },
  {
   "cell_type": "code",
   "execution_count": null,
   "metadata": {},
   "outputs": [],
   "source": []
  }
 ],
 "metadata": {
  "kernelspec": {
   "display_name": "base",
   "language": "python",
   "name": "python3"
  },
  "language_info": {
   "codemirror_mode": {
    "name": "ipython",
    "version": 3
   },
   "file_extension": ".py",
   "mimetype": "text/x-python",
   "name": "python",
   "nbconvert_exporter": "python",
   "pygments_lexer": "ipython3",
   "version": "3.9.13"
  },
  "orig_nbformat": 4,
  "vscode": {
   "interpreter": {
    "hash": "a5c3b8e5a2b8488009cd245232e62a194b939047a1908178c05a5fa9307a543b"
   }
  }
 },
 "nbformat": 4,
 "nbformat_minor": 2
}
