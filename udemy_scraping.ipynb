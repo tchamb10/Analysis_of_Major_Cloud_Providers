{
 "cells": [
  {
   "cell_type": "code",
   "execution_count": null,
   "metadata": {},
   "outputs": [],
   "source": [
    "import requests\n",
    "from bs4 import BeautifulSoup\n",
    "import csv\n",
    "from tqdm import tqdm\n",
    "\n",
    "session = requests.Session()\n",
    "\n",
    "file = open('urls.csv')\n",
    "data = list(csv.reader(file, delimiter=\",\"))\n",
    "file.close()\n",
    "\n",
    "url = [item for sublist in data for item in sublist]\n",
    "\n",
    "print(url)\n",
    "\n",
    "price, enrollment, rating, num_ratings = [], [], [], []\n",
    "\n",
    "for URL in tqdm(url):\n",
    "\n",
    "    try:\n",
    "        req = session.get(URL).text\n",
    "        soup = BeautifulSoup(req, 'html.parser')\n",
    "    except:\n",
    "        continue\n",
    "    try:\n",
    "        meta_price = soup.find(\"meta\", {\"property\": \"udemy_com:price\"})\n",
    "        price.append(meta_price.get(\"content\", None))\n",
    "    except:\n",
    "        continue\n",
    "    try:\n",
    "        enrollment.append(soup.find(\"div\", {\"class\": \"enrollment\"}).text)\n",
    "    except:\n",
    "        continue\n",
    "    try:\n",
    "        rating_temp = soup.find(\"span\", {\"class\": \"star-rating--star-wrapper--5Fj0L star-rating--medium--3Lhzz star-rating--dark-background--4E2W3\"})\n",
    "        rating.append(rating_temp.find(\"span\", {\"class\": \"ud-heading-sm star-rating--rating-number--3l80q\"}).text)\n",
    "    except:\n",
    "        continue\n",
    "    try:\n",
    "        num_ratings_temp = soup.find(\"div\", {\"class\": \"clp-lead__element-item clp-lead__element-item--row\"})\n",
    "        num_ratings_temp = num_ratings_temp.find(\"a\")\n",
    "        num_ratings_temp = num_ratings_temp.find_all(\"span\")\n",
    "        num_ratings.append(num_ratings_temp[-1].text)\n",
    "    except:\n",
    "        continue\n"
   ]
  },
  {
   "cell_type": "code",
   "execution_count": null,
   "metadata": {},
   "outputs": [],
   "source": [
    "def remove_dollar_sign(price):\n",
    "    for i in range(0, len(price)):\n",
    "        price[i] = price[i][1:]\n",
    "\n",
    "    return price\n",
    "\n",
    "\n",
    "def remove_letters(enrollment):\n",
    "    for i in range(0, len(enrollment)):\n",
    "        enrollment[i] = enrollment[i].rstrip(\" students\")\n",
    "\n",
    "    return enrollment\n",
    "\n",
    "\n",
    "def remove_num_ratings(num_ratings):\n",
    "    for i in range(0, len(num_ratings)):\n",
    "        num_ratings[i] = num_ratings[i].lstrip(\"(\")\n",
    "        num_ratings[i] = num_ratings[i].rstrip(\" ratings)\")\n",
    "\n",
    "    return num_ratings"
   ]
  },
  {
   "cell_type": "code",
   "execution_count": null,
   "metadata": {},
   "outputs": [],
   "source": [
    "price = remove_dollar_sign(price)\n",
    "enrollment = remove_letters(enrollment)\n",
    "num_ratings = remove_num_ratings(num_ratings)"
   ]
  },
  {
   "cell_type": "code",
   "execution_count": null,
   "metadata": {},
   "outputs": [],
   "source": [
    "rows = zip(price, enrollment, rating, num_ratings)\n",
    "header_list = ('price', 'enrollment', 'rating', 'num_ratings')\n",
    "\n",
    "with open('AWS_udemy_data.csv', \"w\") as f:\n",
    "    writer = csv.writer(f)\n",
    "    for row in rows:\n",
    "        writer.writerow(row)"
   ]
  }
 ],
 "metadata": {
  "kernelspec": {
   "display_name": "base",
   "language": "python",
   "name": "python3"
  },
  "language_info": {
   "codemirror_mode": {
    "name": "ipython",
    "version": 3
   },
   "file_extension": ".py",
   "mimetype": "text/x-python",
   "name": "python",
   "nbconvert_exporter": "python",
   "pygments_lexer": "ipython3",
   "version": "3.9.13"
  },
  "orig_nbformat": 4,
  "vscode": {
   "interpreter": {
    "hash": "a5c3b8e5a2b8488009cd245232e62a194b939047a1908178c05a5fa9307a543b"
   }
  }
 },
 "nbformat": 4,
 "nbformat_minor": 2
}
