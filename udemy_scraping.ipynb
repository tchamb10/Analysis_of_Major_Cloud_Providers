{
 "cells": [
  {
   "cell_type": "code",
   "execution_count": 1,
   "metadata": {},
   "outputs": [
    {
     "name": "stderr",
     "output_type": "stream",
     "text": [
      " 52%|█████▏    | 215/412 [02:22<02:22,  1.39it/s]"
     ]
    },
    {
     "name": "stdout",
     "output_type": "stream",
     "text": [
      "https://www.udemy.com/course/microsoft-azure-az-900-microsoft-fundamentals-certification/\n"
     ]
    },
    {
     "name": "stderr",
     "output_type": "stream",
     "text": [
      "100%|██████████| 412/412 [05:08<00:00,  1.34it/s]\n",
      " 62%|██████▏   | 254/412 [04:24<48:43, 18.50s/it]"
     ]
    },
    {
     "name": "stdout",
     "output_type": "stream",
     "text": [
      "https://www.udemy.com/course/aws-certified-sysops-admin-associate/\n"
     ]
    },
    {
     "name": "stderr",
     "output_type": "stream",
     "text": [
      "100%|██████████| 412/412 [04:54<00:00,  1.40it/s]\n",
      "100%|██████████| 412/412 [00:45<00:00,  8.97it/s]\n"
     ]
    }
   ],
   "source": [
    "import requests\n",
    "from bs4 import BeautifulSoup\n",
    "import csv\n",
    "from tqdm import tqdm\n",
    "import json\n",
    "\n",
    "session = requests.Session()\n",
    "\n",
    "# open the urls.csv for scraping\n",
    "file = open('urls.csv')\n",
    "data = list(csv.reader(file, delimiter=\",\"))\n",
    "file.close()\n",
    "\n",
    "# separate urls based on Cloud Provider     \n",
    "providers = {'Azure': [item[0] for item in data],\n",
    "             'AWS': [item[1] for item in data],\n",
    "             'Google': [item[2] for item in data]}\n",
    "\n",
    "name, course_name, course_URL, price, enrollment, rating, num_ratings = [], [], [], [], [], [], []\n",
    "\n",
    "# scraping loop for each cloud providers urls\n",
    "for i, url in providers.items():\n",
    "    for URL in tqdm(url):\n",
    "        try: # open the webpage and grab the html\n",
    "            req = session.get(URL).text\n",
    "            soup = BeautifulSoup(req, 'html.parser')\n",
    "        except:\n",
    "            continue\n",
    "        try:\n",
    "            course_name_temp = soup.find(\"h1\", {\"class\": \"ud-heading-xl clp-lead__title clp-lead__title--small\"}).text\n",
    "            course_name.append(course_name_temp)\n",
    "            course_URL.append(URL)\n",
    "        except:\n",
    "            print(URL)\n",
    "            continue\n",
    "        try: # get the price (non sale) of each course\n",
    "            meta_price = soup.find(\"meta\", {\"property\": \"udemy_com:price\"})\n",
    "            price.append(meta_price.get(\"content\", None))\n",
    "            name.append(i)\n",
    "        except:\n",
    "            print(URL)\n",
    "            continue\n",
    "        try: # check the number of subscribers for each course\n",
    "            enrollment.append(soup.find(\"div\", {\"class\": \"enrollment\"}).text)\n",
    "        except:\n",
    "            print(URL)\n",
    "            continue\n",
    "        try: # find the rating out of 5 for each course\n",
    "            rating_temp = soup.find(\"span\", {\"class\": \"star-rating--star-wrapper--5Fj0L star-rating--medium--3Lhzz star-rating--dark-background--4E2W3\"})\n",
    "            rating.append(rating_temp.find(\"span\", {\"class\": \"ud-heading-sm star-rating--rating-number--3l80q\"}).text)\n",
    "        except:\n",
    "            print(URL)\n",
    "            continue\n",
    "        try: # find the number of ratings for each course\n",
    "            num_ratings_temp = soup.find(\"div\", {\"class\": \"clp-lead__element-item clp-lead__element-item--row\"})\n",
    "            num_ratings_temp = num_ratings_temp.find(\"a\")\n",
    "            num_ratings_temp = num_ratings_temp.find_all(\"span\")\n",
    "            num_ratings.append(num_ratings_temp[-1].text)\n",
    "        except:\n",
    "            print(URL)\n",
    "            continue\n"
   ]
  },
  {
   "cell_type": "code",
   "execution_count": 2,
   "metadata": {},
   "outputs": [],
   "source": [
    "# cleanup function, removes all non integer characters for each section\n",
    "def cleanup(price, enrollment, rating, num_ratings):    \n",
    "    info = [price, enrollment, rating, num_ratings]\n",
    "\n",
    "    if all(len(info[0]) == len(i) for i in info[1:]):\n",
    "        for i in range(0, len(price)):\n",
    "            \n",
    "            price[i] = price[i].strip(\"$\")\n",
    "            \n",
    "            enrollment[i] = enrollment[i].strip(\" studen\")\n",
    "\n",
    "            num_ratings[i] = num_ratings[i].strip(\"() ratings\")\n",
    "\n",
    "    return price, enrollment, rating, num_ratings"
   ]
  },
  {
   "cell_type": "code",
   "execution_count": 3,
   "metadata": {},
   "outputs": [
    {
     "name": "stdout",
     "output_type": "stream",
     "text": [
      "766 766 766 766 766 766 766\n"
     ]
    }
   ],
   "source": [
    "price, enrollment, rating, num_ratings = cleanup(price, enrollment, rating, num_ratings)\n",
    "\n",
    "print(len(name), len(course_name), len(course_URL), len(price), len(enrollment), len(rating), len(num_ratings))"
   ]
  },
  {
   "cell_type": "code",
   "execution_count": null,
   "metadata": {},
   "outputs": [],
   "source": [
    "# creates csv file with all scraping information\n",
    "rows = zip(name, price, enrollment, rating, num_ratings)\n",
    "header_list = ('name','course_name','course_URL','price', 'enrollment', 'rating', 'num_ratings')\n",
    "\n",
    "with open('udemy_data.csv', \"w\") as f:\n",
    "    writer = csv.writer(f)\n",
    "    writer.writerow(header_list)\n",
    "    for row in rows:\n",
    "        writer.writerow(row)"
   ]
  },
  {
   "cell_type": "code",
   "execution_count": null,
   "metadata": {},
   "outputs": [],
   "source": []
  }
 ],
 "metadata": {
  "kernelspec": {
   "display_name": "base",
   "language": "python",
   "name": "python3"
  },
  "language_info": {
   "codemirror_mode": {
    "name": "ipython",
    "version": 3
   },
   "file_extension": ".py",
   "mimetype": "text/x-python",
   "name": "python",
   "nbconvert_exporter": "python",
   "pygments_lexer": "ipython3",
   "version": "3.9.13"
  },
  "orig_nbformat": 4,
  "vscode": {
   "interpreter": {
    "hash": "a5c3b8e5a2b8488009cd245232e62a194b939047a1908178c05a5fa9307a543b"
   }
  }
 },
 "nbformat": 4,
 "nbformat_minor": 2
}
